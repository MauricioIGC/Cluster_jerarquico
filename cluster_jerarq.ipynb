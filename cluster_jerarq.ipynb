{
 "cells": [
  {
   "attachments": {},
   "cell_type": "markdown",
   "metadata": {},
   "source": [
    "\n",
    "García Cruz Mauricio Iván \n",
    "\n",
    "Velázquez Pérez José Juan"
   ]
  },
  {
   "attachments": {},
   "cell_type": "markdown",
   "metadata": {},
   "source": [
    "**Clustering Jerárquico**\n",
    "\n",
    "El clutering jerarquico es un algoritmo que se basa en encontrar similitudes entre individuos asignandolos a grupos(Clusters) de tal manera que los grupos estén bien separados dejando a los individuos disimilares(diferentes) en clusters distintos la similitud entre los individuos se grafica mediante un árbol llamado dendrograma. (Es recomendable aplicar está técnica cuando se tienen no más de $10,000$ elementos a análisar, esn otro caso se recomienda utilizar la técnica de k-medias)\n",
    "\n",
    "**Pasos del método aglomerativo**\n",
    "\n",
    "***i) Se forman tantos grupos(clusters) como individuos***\n",
    "\n",
    "***ii) Se agrupan a los individuos en base a una medida de similitud entre ellos formando clusters.***\n",
    "\n",
    "Una forma de comparar las distancias es en base a la construcción de una matriz de disimilitud la cual contiene la información de las distancias individuo a individuo manteniendo en la diagonal la distancia de cada individuo consigo mismo, existen diversos métodos para medir la similitud entre los individuos como la distancia Euclidiana, o distancia Manhathan. \n",
    "\n",
    "***iii) Se van agrupando los clusters en base a una medida de similitud que exista entre ellos, formando así un árbol llamado dendrograma.***\n",
    "\n",
    "En este paso se utilizan algunas técnicas de aglomeración algunos métodos son: \n",
    "Método del centroide: Toma encuenta la distancia entre los centros de gravedad de cada cluster.\n",
    "\n",
    "Agregación de ward: Toma en cuenta el menos incremento en las distancias que hay entre los  individuos contenidos en cada cluster y el centro de gravedad al que pertenecen.\n",
    "\n",
    "De manera iterativa se construyen matrices de disimulitud con la técnica deseada y se agrupan los clusters formando grupos de clusters.\n",
    "\n",
    "***iv) Se continúan agrupando hasta que solo queda un cluster, que contenga la totalidad de los cluster formados previamente.***\n",
    "\n"
   ]
  },
  {
   "cell_type": "code",
   "execution_count": null,
   "metadata": {},
   "outputs": [],
   "source": [
    "#$ pip install folium\n",
    "#$ conda install -c conda-forge folium"
   ]
  },
  {
   "attachments": {},
   "cell_type": "markdown",
   "metadata": {},
   "source": [
    "El problema que se intenta resolver en este ejemplo es el de ver dónde deberíamos poner un sushi roll\n",
    "en la CDMX, se usaron datos del INEGI y de Google maps \n"
   ]
  },
  {
   "cell_type": "code",
   "execution_count": 1,
   "metadata": {},
   "outputs": [],
   "source": [
    "#Librerias para el algoritmo AGNES\n",
    "import numpy as np\n",
    "import pandas as pd\n",
    "import matplotlib.pyplot as plt\n",
    "import scipy.cluster.hierarchy as sch\n",
    "from sklearn.cluster import AgglomerativeClustering\n",
    "from sklearn.cluster import KMeans\n",
    "from sklearn.preprocessing import StandardScaler\n",
    "from sklearn.metrics import silhouette_score\n",
    "from sklearn.metrics import silhouette_samples\n",
    "#librerias para poner clusters en el mapa\n",
    "import folium\n",
    "from folium.plugins import MarkerCluster\n",
    "from folium.plugins import FastMarkerCluster\n",
    "from folium.plugins import HeatMap\n",
    "\n"
   ]
  },
  {
   "attachments": {},
   "cell_type": "markdown",
   "metadata": {},
   "source": [
    "La idea es que donde se aglomeren lugares donde se hacen actividades recreativas con muchos trabajadores y restaurantes de alto nivel económico significa que es una zona donde se vende bastante, además de que el público objetivo se encuentra ahí. En otras palabras suponiendo que dichos restaurantes hicieron su tarea, en esa zona se va a vender bien."
   ]
  },
  {
   "cell_type": "code",
   "execution_count": 2,
   "metadata": {},
   "outputs": [],
   "source": [
    "#leemos todos los archivos\n",
    "bene = pd.read_csv('benedetti_GM.csv')\n",
    "domi = pd.read_csv('dominos_IN.csv')\n",
    "pizh = pd.read_csv('pizza_hut_IN.csv')\n",
    "star = pd.read_csv('starbucks_IN.csv')\n",
    "vips = pd.read_csv('vips_IN.csv')\n",
    "sushi = pd.read_csv('sushiroll_IN.csv')\n",
    "sush = pd.read_csv('sushi_roll_IN.csv')\n",
    "cast = pd.read_csv('la_c_d_to_IN.csv')\n",
    "toks = pd.read_csv('toks_IN.csv')\n",
    "supe = pd.read_csv('superama_IN.csv')\n",
    "gym = pd.read_csv('gym_IN.csv')\n",
    "smar = pd.read_csv('smart_fit_IN.csv')"
   ]
  },
  {
   "cell_type": "code",
   "execution_count": 3,
   "metadata": {},
   "outputs": [
    {
     "data": {
      "text/plain": [
       "(735, 2)"
      ]
     },
     "execution_count": 3,
     "metadata": {},
     "output_type": "execute_result"
    }
   ],
   "source": [
    "#cambiamos el nombre de las columnas\n",
    "bene.columns = ['Latitud','Longitud']\n",
    "#juntamos todas las logitudes y latitudes en un solo dataframe\n",
    "df = pd.concat([bene,domi[['Latitud','Longitud']],pizh[['Latitud','Longitud']],star[['Latitud','Longitud']],vips[['Latitud','Longitud']],cast[['Latitud','Longitud']],toks[['Latitud','Longitud']],supe[['Latitud','Longitud']],gym[['Latitud','Longitud']],smar[['Latitud','Longitud']],sushi[['Latitud','Longitud']],sush[['Latitud','Longitud']]],axis=0)\n",
    "df.shape"
   ]
  },
  {
   "cell_type": "code",
   "execution_count": 4,
   "metadata": {},
   "outputs": [],
   "source": [
    "#creamos un mapa\n",
    "mapa = folium.Map(location=[19.4326,-99.1332],zoom_start=12)\n",
    "\n",
    "#ponemos las laitudes y longitudes en el mapa pero con puntos\n",
    "\n",
    "for i in range(len(df)):\n",
    "    folium.CircleMarker([df.iloc[i]['Latitud'], df.iloc[i]['Longitud']], radius=1, color='blue', fill_color='red', fill_opacity=0.5).add_to(mapa)\n",
    "\n",
    "#mapa\n",
    "#para ver el mapa (no se puede ver en github así que se ve en el archivo html)\n",
    "mapa.save('mapa1.html')"
   ]
  },
  {
   "cell_type": "code",
   "execution_count": 5,
   "metadata": {},
   "outputs": [
    {
     "data": {
      "text/plain": [
       "Text(0.5, 1.0, 'Dendrograma')"
      ]
     },
     "execution_count": 5,
     "metadata": {},
     "output_type": "execute_result"
    },
    {
     "data": {
      "image/png": "[encoded data removed]",
      "text/plain": [
       "<Figure size 432x288 with 1 Axes>"
      ]
     },
     "metadata": {
      "needs_background": "light"
     },
     "output_type": "display_data"
    }
   ],
   "source": [
    "#hacemos el algoritmo de agnes\n",
    "dendrograma = sch.dendrogram(sch.linkage(df,method='ward'),truncate_mode='lastp',p=70,show_leaf_counts=True,leaf_rotation=90,leaf_font_size=12,show_contracted=True)\n",
    "plt.title('Dendrograma')"
   ]
  },
  {
   "attachments": {},
   "cell_type": "markdown",
   "metadata": {},
   "source": [
    "Aquí decidimos que 70 es una buena cantidad de clusters para encontrar dichas regiones. Hay que recalcar que no se recomienda usar estos algoritmos (bottom-up) para grandes cantidades de datos."
   ]
  },
  {
   "cell_type": "code",
   "execution_count": 13,
   "metadata": {},
   "outputs": [
    {
     "data": {
      "text/plain": [
       "array([48, 68, 48, 39, 23, 12, 69,  7, 30, 10, 61, 26,  4, 18, 40, 36, 15,\n",
       "       17, 14, 34, 51, 13, 20, 55, 65,  3, 21, 33,  2, 44, 69, 53, 58, 14,\n",
       "       53, 37, 59, 35, 29, 59, 32, 44, 56, 20, 24, 15, 35, 68, 56, 55, 30,\n",
       "       20, 22, 39, 49, 23, 34, 31, 28, 13, 18, 21, 28, 39, 16, 66, 36, 61,\n",
       "       23,  3, 26, 47,  8, 15, 46, 25, 38, 50, 26, 33, 23, 26, 17, 16,  8,\n",
       "       26, 32, 43, 26, 17,  0,  7, 14,  5, 35,  5, 12, 50, 12, 40, 63, 10,\n",
       "        0, 32, 31,  7,  6,  6, 42,  4, 32,  6, 59, 19, 16, 51, 24, 12,  3,\n",
       "       60, 66, 43, 23, 56, 59, 31, 13,  6, 45, 21, 11,  2,  0, 17,  3, 41,\n",
       "       42, 65, 28, 26, 32, 39, 63,  5, 42, 59,  3, 35, 43,  0, 65,  0, 10,\n",
       "       48, 46, 25, 36, 30, 26, 41, 32, 49, 14, 66, 46,  7, 39,  7, 39, 27,\n",
       "       27, 46, 33, 45, 27, 39, 45, 19, 29, 19,  4,  6,  7, 29,  6, 59,  0,\n",
       "       35, 35, 11, 14, 41, 29,  0, 11, 66, 39,  9,  5, 26, 25, 26, 66, 10,\n",
       "       45,  6, 59, 14, 26,  4, 42, 43, 45, 13, 14, 64, 27,  6,  7, 14, 64,\n",
       "       64, 17, 59,  2, 48,  8,  7, 14, 66, 25,  8, 66, 14, 62,  6,  6, 52,\n",
       "       36, 35, 41, 45, 54, 20,  3, 24, 49, 43, 45, 49, 64, 43,  0, 39, 43,\n",
       "       49, 59, 48, 19, 18, 27, 59, 11, 43,  8, 23, 13, 30, 13, 43, 26, 66,\n",
       "        6, 16,  8, 38,  1, 27, 60, 43, 15, 43, 11, 22, 33, 49, 32,  0, 17,\n",
       "       21,  0,  1,  0, 65, 22, 44,  5, 20, 18, 68, 30, 60,  8, 40, 20,  9,\n",
       "       12, 11,  5,  4,  8, 48, 50, 21, 32, 40, 26, 17, 27, 39,  7, 50, 61,\n",
       "       21, 26,  1, 10, 55, 21,  7, 63,  8,  0, 11, 12, 33, 47, 46,  7, 22,\n",
       "       14, 48, 23, 66, 17, 17, 36, 43,  4, 19, 26, 34, 16, 17, 50, 56, 42,\n",
       "       44,  9, 26, 26, 59,  8, 35, 43, 62, 29, 36, 19,  3, 49, 39,  5, 59,\n",
       "       43, 48,  0, 18, 49,  0,  6, 43, 41,  9, 43, 30, 26,  2,  8, 20, 21,\n",
       "       30, 44,  0, 36, 30, 14, 15, 15, 26, 28, 43,  9, 50,  4, 44,  9, 21,\n",
       "       31, 63, 43, 50, 36,  0, 60, 47, 33, 43, 43, 35, 39,  4, 32,  4, 32,\n",
       "       39, 26, 15, 49, 31, 14, 35, 32, 19, 63, 43, 43,  0, 60, 18, 15, 15,\n",
       "        9,  0, 39, 10,  0, 35, 26, 11, 36,  2, 40, 10, 22, 55, 10,  1, 25,\n",
       "       14,  0, 43, 14, 60, 56, 27, 16, 55, 21,  6, 14,  8, 11,  0,  3, 65,\n",
       "       44, 25,  5, 22, 32, 31, 55, 66, 35,  0,  4,  4, 21, 16, 40, 40, 55,\n",
       "       19, 32, 35, 35, 46, 35, 48, 14, 40, 47, 29, 47, 42, 25, 17, 18, 25,\n",
       "        0,  0, 51, 15, 48, 14,  0, 24,  6, 57, 12, 20,  9, 12, 10,  4, 10,\n",
       "       30,  8, 13,  1, 63, 24, 66,  8, 28, 61, 29, 54, 28, 19, 12, 12, 23,\n",
       "       39, 46, 13, 39,  8, 14, 59, 59, 39, 51, 13, 42, 35, 42, 14, 18, 25,\n",
       "        7, 47, 40,  7, 36, 24,  4, 19,  4, 25, 49, 69, 36,  6, 29,  6, 39,\n",
       "       25,  2,  2, 12, 51, 11, 63,  3,  6, 39, 46, 36,  7,  1, 49, 28, 64,\n",
       "       19, 30, 14, 54, 69,  6,  1, 26, 33,  6, 67, 19, 36, 10, 69, 24, 63,\n",
       "       27, 22, 17,  3,  8, 64,  7, 25, 69, 17,  7,  8, 54,  3, 21, 18,  0,\n",
       "       56, 13, 23, 60, 39, 39, 48, 49,  5,  7,  4, 35, 45, 11, 14,  6, 49,\n",
       "       29, 42, 36, 14, 41, 25, 45, 25, 19, 28, 19, 49, 18, 66, 66, 66, 11,\n",
       "       47, 39,  3, 19,  6, 25, 39, 18,  7,  5, 13,  2, 18, 49, 41, 43, 21,\n",
       "       56, 22, 13,  9,  9, 68, 66, 25,  2,  3, 46,  8, 15, 30, 52, 14, 15,\n",
       "       16,  1, 23, 19, 62, 43, 34, 66, 25, 25, 39, 14, 14,  8,  0,  7, 64,\n",
       "       32, 63, 39, 66, 10, 45, 66, 19, 36, 18, 18, 68, 39, 66, 47, 47, 26,\n",
       "       61,  3, 42, 23], dtype=int64)"
      ]
     },
     "execution_count": 13,
     "metadata": {},
     "output_type": "execute_result"
    }
   ],
   "source": [
    "#marcamos los puntos del df con el algoritmo de agnes\n",
    "hc = AgglomerativeClustering(n_clusters=70,affinity='euclidean',linkage='ward')\n",
    "y_hc = hc.fit_predict(df)\n",
    "y_hc"
   ]
  },
  {
   "attachments": {},
   "cell_type": "markdown",
   "metadata": {},
   "source": [
    "Hay unos datos (de google maps) que no pertenecen a la CDMX, sin embargo lo podemos ubicar por estar en un cluster con un sólo dato."
   ]
  },
  {
   "cell_type": "code",
   "execution_count": 14,
   "metadata": {},
   "outputs": [
    {
     "data": {
      "text/plain": [
       "(array([ 0,  1,  2,  3,  4,  5,  6,  7,  8,  9, 10, 11, 12, 13, 14, 15, 16,\n",
       "        17, 18, 19, 20, 21, 22, 23, 24, 25, 26, 27, 28, 29, 30, 31, 32, 33,\n",
       "        34, 35, 36, 37, 38, 39, 40, 41, 42, 43, 44, 45, 46, 47, 48, 49, 50,\n",
       "        51, 52, 53, 54, 55, 56, 57, 58, 59, 60, 61, 62, 63, 64, 65, 66, 67,\n",
       "        68, 69], dtype=int64),\n",
       " array([27,  8,  9, 14, 15, 10, 21, 19, 19, 10, 12, 12, 11, 12, 26, 12,  8,\n",
       "        13, 14, 17,  8, 13,  8, 11,  7, 18, 23,  9,  8,  9, 11,  6, 14,  7,\n",
       "         4, 17, 15,  1,  2, 26,  9,  7, 10, 25,  7, 10,  9,  9, 11, 15,  7,\n",
       "         5,  2,  2,  4,  7,  7,  1,  1, 14,  7,  5,  3,  9,  7,  5, 19,  1,\n",
       "         5,  6], dtype=int64))"
      ]
     },
     "execution_count": 14,
     "metadata": {},
     "output_type": "execute_result"
    }
   ],
   "source": [
    "#vemos cuáles clusters tienen cuántos puntos\n",
    "np.unique(y_hc,return_counts=True)"
   ]
  },
  {
   "cell_type": "code",
   "execution_count": 15,
   "metadata": {},
   "outputs": [
    {
     "data": {
      "text/plain": [
       "(735, 3)"
      ]
     },
     "execution_count": 15,
     "metadata": {},
     "output_type": "execute_result"
    }
   ],
   "source": [
    "#nos quedamos con los clusters que tienen más de 0 puntos y menos de 200 puntos (tiene sentido más tarde)\n",
    "aux4=np.unique(y_hc,return_counts=True)[1]>0 \n",
    "aux5=np.unique(y_hc,return_counts=True)[1]<200\n",
    "aux6=np.unique(y_hc,return_counts=True)[0][aux4*aux5]\n",
    "#obtenemos un dataframe con los puntos que pertenecen a los clusters que tienen dichas características y ponemos los clusters a los que pertenecen\n",
    "df2=df.iloc[np.where(np.isin(y_hc,aux6))]\n",
    "df2['Cluster']=y_hc[np.where(np.isin(y_hc,aux6))]\n",
    "df2.shape"
   ]
  },
  {
   "cell_type": "code",
   "execution_count": 16,
   "metadata": {},
   "outputs": [],
   "source": [
    "#colores (algunos no se ven bien, alejar el mapa para verlos mejor)\n",
    "color=['red', 'blue', 'green', 'purple', 'orange', 'darkred',\n",
    "'lightred', 'beige', 'darkblue', 'darkgreen', 'cadetblue', 'darkpurple', 'lightblue', 'lightgreen', 'gray', 'black', 'lightgray']\n",
    "\n",
    "#creamos un mapa\n",
    "mapa2 = folium.Map(location=[19.4326,-99.1332],zoom_start=12)\n",
    "\n",
    "#ponemos los puntos en el mapa\n",
    "for i in range(len(df2)):\n",
    "    folium.CircleMarker([df2.iloc[i]['Latitud'], df2.iloc[i]['Longitud']], radius=1, color=color[int(df2.iloc[i]['Cluster'])%15], fill_opacity=0.5).add_to(mapa2)\n",
    "\n",
    "#para ver el mapa\n",
    "#mapa2\n",
    "mapa2.save('mapa2.html')"
   ]
  },
  {
   "attachments": {},
   "cell_type": "markdown",
   "metadata": {},
   "source": [
    "Un cluster de pocos puntos nos habla de una zona de clase media, un cluster muy grande nos habla de una zona muy transitada, por eso nos quedaremos en un rango de la cantidad de puntos."
   ]
  },
  {
   "cell_type": "code",
   "execution_count": 17,
   "metadata": {},
   "outputs": [
    {
     "name": "stderr",
     "output_type": "stream",
     "text": [
      "C:\\Users\\mauiv\\AppData\\Local\\Temp\\ipykernel_11324\\2698339872.py:8: SettingWithCopyWarning: \n",
      "A value is trying to be set on a copy of a slice from a DataFrame.\n",
      "Try using .loc[row_indexer,col_indexer] = value instead\n",
      "\n",
      "See the caveats in the documentation: https://pandas.pydata.org/pandas-docs/stable/user_guide/indexing.html#returning-a-view-versus-a-copy\n",
      "  df2['Cluster']=y_hc[np.where(np.isin(y_hc,aux6))]\n"
     ]
    },
    {
     "data": {
      "text/plain": [
       "(546, 3)"
      ]
     },
     "execution_count": 17,
     "metadata": {},
     "output_type": "execute_result"
    }
   ],
   "source": [
    "#nos quedamos con los clusters que tienen más de 5 puntos y menos de 20 usando np.unique\n",
    "aux4=np.unique(y_hc,return_counts=True)[1]>5 \n",
    "aux5=np.unique(y_hc,return_counts=True)[1]<20\n",
    "aux6=np.unique(y_hc,return_counts=True)[0][aux4*aux5]\n",
    "\n",
    "#obtenemos un dataframe con los puntos que pertenecen a los clusters que tienen dichas características y ponemos los clusters a los que pertenecen\n",
    "df2=df.iloc[np.where(np.isin(y_hc,aux6))]\n",
    "df2['Cluster']=y_hc[np.where(np.isin(y_hc,aux6))]\n",
    "df2.shape"
   ]
  },
  {
   "attachments": {},
   "cell_type": "markdown",
   "metadata": {},
   "source": [
    "Ponemos los puntos de sushi roll en negro (alejar el zoom si es necesario) y notamos que en la zona norte es claro que hay varias zonas donde sería buena idea poner uno."
   ]
  },
  {
   "cell_type": "code",
   "execution_count": 18,
   "metadata": {},
   "outputs": [],
   "source": [
    "mapa2 = folium.Map(location=[19.4326,-99.1332],zoom_start=12)\n",
    "\n",
    "#ponemos los puntos en el mapa\n",
    "for i in range(len(df2)):\n",
    "    folium.CircleMarker([df2.iloc[i]['Latitud'], df2.iloc[i]['Longitud']], radius=1, color=color[int(df2.iloc[i]['Cluster'])%15], fill_opacity=0.5).add_to(mapa2)\n",
    "\n",
    "#ponemos los puntos de sushi roll en el mapa\n",
    "for i in range(len(sush)):\n",
    "    folium.CircleMarker([sush.iloc[i]['Latitud'], sush.iloc[i]['Longitud']], radius=1, color='black', fill_color='black', fill_opacity=0.5).add_to(mapa2)\n",
    "for i in range(len(sushi)):\n",
    "    folium.CircleMarker([sushi.iloc[i]['Latitud'], sushi.iloc[i]['Longitud']], radius=1, color='black', fill_color='black', fill_opacity=0.5).add_to(mapa2)\n",
    "\n",
    "#para ver el mapa\n",
    "#mapa2\n",
    "mapa2.save('mapa3.html')"
   ]
  },
  {
   "attachments": {},
   "cell_type": "markdown",
   "metadata": {},
   "source": [
    "En particular se debería de poner uno en la zona norte cercano al IPN y al cablebus, decir algo de las otras zonas depende un poco de la cantidad de clusters y de quién lo vea para llegar a una conclusión."
   ]
  },
  {
   "cell_type": "code",
   "execution_count": 12,
   "metadata": {},
   "outputs": [],
   "source": [
    "#aplicamos el algoritmo de clustering que tiene folium\n",
    "mapa3 = folium.Map(location=[19.4326,-99.1332],zoom_start=12)\n",
    "FastMarkerCluster(data=list(zip(df2['Latitud'].values, df2['Longitud'].values))).add_to(mapa3)\n",
    "#mapa3\n",
    "mapa3.save('mapa4.html')"
   ]
  },
  {
   "attachments": {},
   "cell_type": "markdown",
   "metadata": {},
   "source": [
    "Este último algoritmo que tiene implementado folium también es bottom-up y puedes ver cómo cambia el dendrograma haciendo zoom al mapa."
   ]
  },
  {
   "cell_type": "markdown",
   "metadata": {},
   "source": []
  }
 ],
 "metadata": {
  "kernelspec": {
   "display_name": "Python 3.9.12",
   "language": "python",
   "name": "python3"
  },
  "language_info": {
   "codemirror_mode": {
    "name": "ipython",
    "version": 3
   },
   "file_extension": ".py",
   "mimetype": "text/x-python",
   "name": "python",
   "nbconvert_exporter": "python",
   "pygments_lexer": "ipython3",
   "version": "3.9.12 (main, Apr  4 2022, 05:22:27) [MSC v.1916 64 bit (AMD64)]"
  },
  "orig_nbformat": 4,
  "vscode": {
   "interpreter": {
    "hash": "ad2bdc8ecc057115af97d19610ffacc2b4e99fae6737bb82f5d7fb13d2f2c186"
   }
  }
 },
 "nbformat": 4,
 "nbformat_minor": 2
}
